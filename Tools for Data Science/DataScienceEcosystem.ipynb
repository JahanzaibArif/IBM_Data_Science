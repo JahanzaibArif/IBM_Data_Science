{
  "cells": [
    {
      "cell_type": "markdown",
      "metadata": {
        "id": "JL6QF9s443-P"
      },
      "source": [
        "# Data Science Tools and Ecosystem\n"
      ]
    },
    {
      "cell_type": "markdown",
      "metadata": {
        "id": "N4JTUgWy5JN5"
      },
      "source": [
        "In this notebook, Data Science Tools and Ecosystem are summarized."
      ]
    },
    {
      "cell_type": "markdown",
      "metadata": {
        "id": "njKyIMhy5ViE"
      },
      "source": [
        "Some of the popular languages that Data Scientists use are:\n",
        "1. Python\n",
        "2. R\n",
        "3. SQL\n",
        "4. Julia\n"
      ]
    },
    {
      "cell_type": "markdown",
      "metadata": {
        "id": "WyEOP9mO5f_7"
      },
      "source": [
        "Some of the commonly used libraries used by Data Scientists include:\n",
        "1. Pandas\n",
        "2. NumPy\n",
        "3. Scikit-learn\n",
        "4. TensorFlow\n"
      ]
    },
    {
      "cell_type": "markdown",
      "metadata": {
        "id": "SzC1OXol5ukQ"
      },
      "source": [
        "| Data Science Tools |\n",
        "|--------------------|\n",
        "| Jupyter Notebook   |\n",
        "| RStudio            |\n",
        "| VS Code            |"
      ]
    },
    {
      "cell_type": "markdown",
      "metadata": {
        "id": "_bcJVCdh6MBw"
      },
      "source": [
        "### Below are a few examples of evaluating arithmetic expressions in Python.\n"
      ]
    },
    {
      "cell_type": "code",
      "execution_count": 1,
      "metadata": {
        "colab": {
          "base_uri": "https://localhost:8080/"
        },
        "id": "J2wY02cv6Y2E",
        "outputId": "f9c1c0b1-370a-40ec-ce76-d5ffaf4523ad"
      },
      "outputs": [
        {
          "data": {
            "text/plain": [
              "17"
            ]
          },
          "execution_count": 1,
          "metadata": {},
          "output_type": "execute_result"
        }
      ],
      "source": [
        "# This is a simple arithmetic expression to multiply then add integers\n",
        "(3 * 4) + 51"
      ]
    },
    {
      "cell_type": "code",
      "execution_count": 2,
      "metadata": {
        "colab": {
          "base_uri": "https://localhost:8080/"
        },
        "id": "ICtgb8fE6lAY",
        "outputId": "6aac698b-044e-453e-c08f-37a5b3a4e221"
      },
      "outputs": [
        {
          "data": {
            "text/plain": [
              "3.3333333333333335"
            ]
          },
          "execution_count": 2,
          "metadata": {},
          "output_type": "execute_result"
        }
      ],
      "source": [
        "# This will convert 200 minutes to hours by dividing by 60\n",
        "200 / 60"
      ]
    },
    {
      "cell_type": "markdown",
      "metadata": {
        "id": "R94t3Px06vwV"
      },
      "source": [
        "**Objectives:**\n",
        "- List popular languages for Data Science.\n",
        "- Identify commonly used libraries in Data Science.\n",
        "- Create tables and format text in Jupyter Notebooks.\n",
        "- Evaluate arithmetic expressions in Python.\n",
        "- Share notebooks via GitHub."
      ]
    },
    {
      "cell_type": "markdown",
      "metadata": {
        "id": "m7UYwYPc67xT"
      },
      "source": [
        "## Author\n",
        "\n",
        "Muhammad Jahanzaib Arif"
      ]
    },
    {
      "cell_type": "markdown",
      "metadata": {},
      "source": []
    }
  ],
  "metadata": {
    "colab": {
      "provenance": []
    },
    "kernelspec": {
      "display_name": "Python 3",
      "name": "python3"
    },
    "language_info": {
      "name": "python"
    }
  },
  "nbformat": 4,
  "nbformat_minor": 0
}
